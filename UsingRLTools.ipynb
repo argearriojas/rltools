{
 "cells": [
  {
   "cell_type": "code",
   "execution_count": 1,
   "metadata": {},
   "outputs": [],
   "source": [
    "def compare(A, B):\n",
    "    x = A.flatten()\n",
    "    y = B.flatten()\n",
    "    coef = np.polyfit(x, y, 1)\n",
    "    poly1d_fn = np.poly1d(coef) \n",
    "    plt.plot(x, y, 'o', x, poly1d_fn(x), '--k', alpha=0.2)\n",
    "    plt.text(min(x), max(y), f\"y = {coef[0]:12.8f} * x {coef[1]:+12.8f}\")\n",
    "    plt.show()\n",
    "    print((np.sqrt(((A - B) ** 2).sum()), np.sqrt(((A - B + coef[1]) ** 2).sum())))"
   ]
  },
  {
   "cell_type": "code",
   "execution_count": 2,
   "metadata": {},
   "outputs": [],
   "source": [
    "import numpy as np\n",
    "import gym\n",
    "import matplotlib.pyplot as plt\n",
    "\n",
    "from gym.wrappers import TimeLimit\n",
    "from rltools.environments.modified_frozen_lake import ModifiedFrozenLake\n",
    "\n",
    "np.set_printoptions(formatter={'float': lambda x: \"{0: 8.4f}\".format(x)}, edgeitems=10, linewidth=100000)"
   ]
  },
  {
   "cell_type": "code",
   "execution_count": 3,
   "metadata": {},
   "outputs": [],
   "source": [
    "from rltools.agents import ZLPlus, SARSA, EntRegSARSA, DQN, EntRegDQN, SoftQ, SoftQDP\n",
    "from rltools.environments.common_frozen import MAPS\n",
    "from rltools.utils.visualization import display_map, plot_dist"
   ]
  },
  {
   "cell_type": "code",
   "execution_count": 4,
   "metadata": {},
   "outputs": [
    {
     "data": {
      "image/png": "[encoded data removed]",
      "text/plain": [
       "<Figure size 432x288 with 1 Axes>"
      ]
     },
     "metadata": {
      "needs_background": "light"
     },
     "output_type": "display_data"
    },
    {
     "data": {
      "text/plain": [
       "64"
      ]
     },
     "execution_count": 4,
     "metadata": {},
     "output_type": "execute_result"
    }
   ],
   "source": [
    "# desc, max_step, beta, step_penalization = np.array(['S' + 'F' * 3 + 'G'], dtype='c'), 8, 10, 1/2\n",
    "\n",
    "# desc = np.array(['FFHFSFFFFFFFFFFFFGFF'], dtype='c')\n",
    "# desc = np.array(['FFHFSFFFFFFFFFFFFGFF'], dtype='c')\n",
    "# desc = np.array(['SFFFFFFFFFFFFFFFFFFFFFFFFFFFFG'], dtype='c')\n",
    "# desc = np.array(MAPS['8x15zigzag'], dtype='c')\n",
    "# desc = np.array(MAPS['15x15mixed'], dtype='c')\n",
    "# desc = np.array(MAPS['23x15zigzag'], dtype='c')\n",
    "# desc = np.array(MAPS['7x32empty'], dtype='c')\n",
    "# desc = np.array(MAPS['5x24empty'], dtype='c')\n",
    "# desc = np.array(MAPS['5x17empty'], dtype='c')\n",
    "# desc = np.array(MAPS['5x15empty'], dtype='c')\n",
    "\n",
    "# desc, max_step, beta, step_penalization = np.array(MAPS['4x4empty'], dtype='c'), 20, 10, 1\n",
    "# desc, max_step, beta, step_penalization = np.array(MAPS['5x5empty'], dtype='c'), 4 * 10 + 1, 10, 1/8\n",
    "# desc, max_step, beta, step_penalization = np.array(MAPS['6x6empty'], dtype='c'), 6 * 10 + 1, 45, 1/12\n",
    "# desc, max_step, beta, step_penalization = np.array(MAPS['8x8empty'], dtype='c'), 50, 45, 1/20\n",
    "\n",
    "# desc, max_step, beta, step_penalization = np.array(MAPS['10x10empty'], dtype='c'), 30, 45, 1/20\n",
    "# desc, max_step, beta, step_penalization = np.array(MAPS['10x10candy'], dtype='c'), 30, 45, 1/20\n",
    "\n",
    "# desc = np.array(MAPS['10x10candy-x2'], dtype='c')\n",
    "# desc = np.array(MAPS['10x10candy-x2-nails'], dtype='c')\n",
    "\n",
    "# desc, max_step, beta, step_penalization = np.array(MAPS['11x11zigzag'], dtype='c'), 16 * 3 + 1, 15, 1/10\n",
    "\n",
    "# desc = np.array(MAPS['11x11zigzag'], dtype='c')\n",
    "\n",
    "# desc[desc != b'F'] = b'F'\n",
    "# desc[0, 0] = b'S'\n",
    "# # desc[0, 1] = b'H'\n",
    "# desc[-1, -1] = b'G'\n",
    "# # desc = desc.T\n",
    "\n",
    "desc, max_step, beta, step_penalization = np.array(MAPS['8x8'], dtype='c'), 16 * 3 + 1, 45, 1/10\n",
    "# desc[desc == b'F'] = b'S'\n",
    "\n",
    "# desc[desc == b'H'] = b'F'\n",
    "# desc[desc == b'H'] = b'W'\n",
    "\n",
    "display_map(desc)\n",
    "nsta = np.prod(desc.shape)\n",
    "nsta"
   ]
  },
  {
   "cell_type": "code",
   "execution_count": 5,
   "metadata": {},
   "outputs": [],
   "source": [
    "nact = 5\n",
    "env = ModifiedFrozenLake(n_action=nact, hot_edges=False, max_reward=0., step_penalization=step_penalization, desc=desc, never_done=False, cyclic_mode=False)\n",
    "env = TimeLimit(env, max_episode_steps=max_step)"
   ]
  },
  {
   "cell_type": "code",
   "execution_count": 6,
   "metadata": {},
   "outputs": [],
   "source": [
    "gamma = 1.00\n",
    "beta = beta\n",
    "boltzmann_temperature = 1. / beta"
   ]
  },
  {
   "cell_type": "code",
   "execution_count": 7,
   "metadata": {},
   "outputs": [],
   "source": [
    "agent = SARSA(env, boltzmann_temperature=boltzmann_temperature, gamma=gamma)"
   ]
  },
  {
   "cell_type": "code",
   "execution_count": 8,
   "metadata": {},
   "outputs": [
    {
     "name": "stdout",
     "output_type": "stream",
     "text": [
      "CPU times: user 7.8 s, sys: 57 ms, total: 7.86 s\n",
      "Wall time: 7.88 s\n"
     ]
    }
   ],
   "source": [
    "%%time\n",
    "agent.train(10000)"
   ]
  },
  {
   "cell_type": "code",
   "execution_count": 9,
   "metadata": {},
   "outputs": [
    {
     "data": {
      "image/png": "[encoded data removed]",
      "text/plain": [
       "<Figure size 432x288 with 1 Axes>"
      ]
     },
     "metadata": {
      "needs_background": "light"
     },
     "output_type": "display_data"
    },
    {
     "name": "stdout",
     "output_type": "stream",
     "text": [
      "-1.310000000000005\n"
     ]
    },
    {
     "data": {
      "image/png": "[encoded data removed]",
      "text/plain": [
       "<Figure size 432x288 with 1 Axes>"
      ]
     },
     "metadata": {
      "needs_background": "light"
     },
     "output_type": "display_data"
    },
    {
     "name": "stdout",
     "output_type": "stream",
     "text": [
      "-1.3\n"
     ]
    }
   ],
   "source": [
    "print(agent.evaluate(n_episodes=300, greedy=False, show_dist=True, use_log=False))\n",
    "print(agent.evaluate(n_episodes=1, show_dist=True, use_log=False))"
   ]
  },
  {
   "cell_type": "code",
   "execution_count": null,
   "metadata": {},
   "outputs": [],
   "source": []
  }
 ],
 "metadata": {
  "kernelspec": {
   "display_name": "Python 3",
   "language": "python",
   "name": "python3"
  },
  "language_info": {
   "codemirror_mode": {
    "name": "ipython",
    "version": 3
   },
   "file_extension": ".py",
   "mimetype": "text/x-python",
   "name": "python",
   "nbconvert_exporter": "python",
   "pygments_lexer": "ipython3",
   "version": "3.6.9"
  }
 },
 "nbformat": 4,
 "nbformat_minor": 4
}
